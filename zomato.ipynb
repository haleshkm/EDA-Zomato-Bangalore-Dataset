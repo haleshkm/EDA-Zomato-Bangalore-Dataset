{
 "cells": [
  {
   "cell_type": "markdown",
   "metadata": {},
   "source": [
    "## This Dataset is related to Zomato Bangalore Restaurant's"
   ]
  },
  {
   "cell_type": "code",
   "execution_count": 1,
   "metadata": {},
   "outputs": [],
   "source": [
    "import pandas as pd\n",
    "import numpy  as np\n",
    "import seaborn as sns\n",
    "import matplotlib.pyplot as plt\n",
    "sns.set_style(\"darkgrid\")"
   ]
  },
  {
   "cell_type": "code",
   "execution_count": 2,
   "metadata": {},
   "outputs": [],
   "source": [
    "zomato = pd.read_csv(\"zomato.csv\")"
   ]
  },
  {
   "cell_type": "code",
   "execution_count": 3,
   "metadata": {},
   "outputs": [
    {
     "name": "stdout",
     "output_type": "stream",
     "text": [
      "Original DataSet :  (51717, 17)\n"
     ]
    }
   ],
   "source": [
    "zomato = pd.DataFrame(zomato)\n",
    "zomato.columns = [i.lower() for i in zomato.columns]\n",
    "print(\"Original DataSet : \",zomato.shape)"
   ]
  },
  {
   "cell_type": "code",
   "execution_count": 4,
   "metadata": {},
   "outputs": [
    {
     "data": {
      "text/plain": [
       "Index(['url', 'address', 'name', 'online_order', 'book_table', 'rate', 'votes',\n",
       "       'phone', 'location', 'rest_type', 'dish_liked', 'cuisines',\n",
       "       'approx_cost(for two people)', 'reviews_list', 'menu_item',\n",
       "       'listed_in(type)', 'listed_in(city)'],\n",
       "      dtype='object')"
      ]
     },
     "execution_count": 4,
     "metadata": {},
     "output_type": "execute_result"
    }
   ],
   "source": [
    "zomato.columns"
   ]
  },
  {
   "cell_type": "code",
   "execution_count": 5,
   "metadata": {},
   "outputs": [],
   "source": [
    "# let's drop uncessary columns\n",
    "#url,phone,address,reviews_list,menu_item\n",
    "zomato.drop([\"url\",\"phone\",\"address\",\"reviews_list\",\"menu_item\",\"location\"],axis = 1,inplace = True)"
   ]
  },
  {
   "cell_type": "code",
   "execution_count": 6,
   "metadata": {},
   "outputs": [
    {
     "data": {
      "text/plain": [
       "(51593, 11)"
      ]
     },
     "execution_count": 6,
     "metadata": {},
     "output_type": "execute_result"
    }
   ],
   "source": [
    "#let's drop duplicate values from the dataset\n",
    "zomato = zomato.drop_duplicates()\n",
    "#after removing the duplicate's from the dataset\n",
    "zomato.shape"
   ]
  },
  {
   "cell_type": "code",
   "execution_count": 7,
   "metadata": {},
   "outputs": [
    {
     "data": {
      "text/html": [
       "<div>\n",
       "<style scoped>\n",
       "    .dataframe tbody tr th:only-of-type {\n",
       "        vertical-align: middle;\n",
       "    }\n",
       "\n",
       "    .dataframe tbody tr th {\n",
       "        vertical-align: top;\n",
       "    }\n",
       "\n",
       "    .dataframe thead th {\n",
       "        text-align: right;\n",
       "    }\n",
       "</style>\n",
       "<table border=\"1\" class=\"dataframe\">\n",
       "  <thead>\n",
       "    <tr style=\"text-align: right;\">\n",
       "      <th></th>\n",
       "      <th>0</th>\n",
       "    </tr>\n",
       "  </thead>\n",
       "  <tbody>\n",
       "    <tr>\n",
       "      <th>name</th>\n",
       "      <td>0.000000</td>\n",
       "    </tr>\n",
       "    <tr>\n",
       "      <th>online_order</th>\n",
       "      <td>0.000000</td>\n",
       "    </tr>\n",
       "    <tr>\n",
       "      <th>book_table</th>\n",
       "      <td>0.000000</td>\n",
       "    </tr>\n",
       "    <tr>\n",
       "      <th>rate</th>\n",
       "      <td>15.002035</td>\n",
       "    </tr>\n",
       "    <tr>\n",
       "      <th>votes</th>\n",
       "      <td>0.000000</td>\n",
       "    </tr>\n",
       "    <tr>\n",
       "      <th>rest_type</th>\n",
       "      <td>0.439982</td>\n",
       "    </tr>\n",
       "    <tr>\n",
       "      <th>dish_liked</th>\n",
       "      <td>54.267052</td>\n",
       "    </tr>\n",
       "    <tr>\n",
       "      <th>cuisines</th>\n",
       "      <td>0.087221</td>\n",
       "    </tr>\n",
       "    <tr>\n",
       "      <th>approx_cost(for two people)</th>\n",
       "      <td>0.666757</td>\n",
       "    </tr>\n",
       "    <tr>\n",
       "      <th>listed_in(type)</th>\n",
       "      <td>0.000000</td>\n",
       "    </tr>\n",
       "    <tr>\n",
       "      <th>listed_in(city)</th>\n",
       "      <td>0.000000</td>\n",
       "    </tr>\n",
       "  </tbody>\n",
       "</table>\n",
       "</div>"
      ],
      "text/plain": [
       "                                     0\n",
       "name                          0.000000\n",
       "online_order                  0.000000\n",
       "book_table                    0.000000\n",
       "rate                         15.002035\n",
       "votes                         0.000000\n",
       "rest_type                     0.439982\n",
       "dish_liked                   54.267052\n",
       "cuisines                      0.087221\n",
       "approx_cost(for two people)   0.666757\n",
       "listed_in(type)               0.000000\n",
       "listed_in(city)               0.000000"
      ]
     },
     "execution_count": 7,
     "metadata": {},
     "output_type": "execute_result"
    }
   ],
   "source": [
    "# let's see null percentage respect to each column\n",
    "Null_Value_Percent = pd.DataFrame(zomato.isnull().sum()/len(zomato)*100)\n",
    "Null_Value_Percent"
   ]
  },
  {
   "cell_type": "code",
   "execution_count": 8,
   "metadata": {},
   "outputs": [
    {
     "data": {
      "text/plain": [
       "(23364, 11)"
      ]
     },
     "execution_count": 8,
     "metadata": {},
     "output_type": "execute_result"
    }
   ],
   "source": [
    "# let's drop null value records from the dataset\n",
    "zomato.dropna(how = 'any',inplace = True,axis = 0)\n",
    "# how = 'any', means remove the record if it has atleast one null value .\n",
    "zomato.shape"
   ]
  },
  {
   "cell_type": "code",
   "execution_count": 9,
   "metadata": {},
   "outputs": [
    {
     "data": {
      "text/plain": [
       "Index(['name', 'online_order', 'book_table', 'rate', 'votes', 'rest_type',\n",
       "       'dish_liked', 'cuisines', 'cost', 'service_type', 'city'],\n",
       "      dtype='object')"
      ]
     },
     "execution_count": 9,
     "metadata": {},
     "output_type": "execute_result"
    }
   ],
   "source": [
    "#let's rename some column's\n",
    "zomato.rename(columns = {'approx_cost(for two people)':\"cost\",\"listed_in(type)\":\"service_type\",\"listed_in(city)\":\"city\"},inplace = True)\n",
    "zomato.columns"
   ]
  },
  {
   "cell_type": "code",
   "execution_count": 10,
   "metadata": {},
   "outputs": [
    {
     "name": "stdout",
     "output_type": "stream",
     "text": [
      "<class 'pandas.core.frame.DataFrame'>\n",
      "Int64Index: 23364 entries, 0 to 51715\n",
      "Data columns (total 11 columns):\n",
      " #   Column        Non-Null Count  Dtype \n",
      "---  ------        --------------  ----- \n",
      " 0   name          23364 non-null  object\n",
      " 1   online_order  23364 non-null  object\n",
      " 2   book_table    23364 non-null  object\n",
      " 3   rate          23364 non-null  object\n",
      " 4   votes         23364 non-null  int64 \n",
      " 5   rest_type     23364 non-null  object\n",
      " 6   dish_liked    23364 non-null  object\n",
      " 7   cuisines      23364 non-null  object\n",
      " 8   cost          23364 non-null  object\n",
      " 9   service_type  23364 non-null  object\n",
      " 10  city          23364 non-null  object\n",
      "dtypes: int64(1), object(10)\n",
      "memory usage: 1.2+ MB\n"
     ]
    }
   ],
   "source": [
    "zomato.info()"
   ]
  },
  {
   "cell_type": "markdown",
   "metadata": {},
   "source": [
    "# Let's Preprocess Our Feature's"
   ]
  },
  {
   "cell_type": "code",
   "execution_count": 11,
   "metadata": {},
   "outputs": [],
   "source": [
    "# let's convert type of cost feature in to int type\n",
    "zomato[\"cost\"] = zomato[\"cost\"].apply(lambda cost : cost.replace(\",\",\"\"))\n",
    "zomato[\"cost\"] = zomato[\"cost\"].astype(int)\n",
    "#zomato[\"cost\"].sample(10)"
   ]
  },
  {
   "cell_type": "code",
   "execution_count": 12,
   "metadata": {},
   "outputs": [
    {
     "name": "stdout",
     "output_type": "stream",
     "text": [
      "Dataset After droping records related to newly opened shop's :  (23218, 11)\n"
     ]
    }
   ],
   "source": [
    "#cleaning rate column\n",
    "\n",
    "# let's remove records related to newly opened shop's\n",
    "new_rating_index = zomato[zomato[\"rate\"]==\"NEW\"].index\n",
    "zomato.drop(new_rating_index,axis = 0,inplace = True)\n",
    "print(\"Dataset After droping records related to newly opened shop's : \",zomato.shape)\n",
    "\n",
    "# let's remove /5 from rating(rate) column\n",
    "zomato[\"rate\"] = zomato[\"rate\"].astype(str)\n",
    "zomato[\"rate\"] = zomato[\"rate\"].apply(lambda x : x[0:3])\n",
    "zomato[\"rate\"] = zomato[\"rate\"].astype(float)"
   ]
  },
  {
   "cell_type": "markdown",
   "metadata": {},
   "source": [
    "## Let's Explore"
   ]
  },
  {
   "cell_type": "markdown",
   "metadata": {},
   "source": [
    "# univariate analysis"
   ]
  },
  {
   "cell_type": "markdown",
   "metadata": {},
   "source": [
    "## 1. top 10 Restaurants Type's\n",
    " insight : Most of the  restaurant's offering Casual Dinning Service."
   ]
  },
  {
   "cell_type": "code",
   "execution_count": 13,
   "metadata": {},
   "outputs": [
    {
     "data": {
      "text/plain": [
       "Text(0, 0.5, 'count')"
      ]
     },
     "execution_count": 13,
     "metadata": {},
     "output_type": "execute_result"
    },
    {
     "data": {
      "image/png": "[encoded data removed]",
      "text/plain": [
       "<Figure size 1008x432 with 1 Axes>"
      ]
     },
     "metadata": {
      "needs_background": "light"
     },
     "output_type": "display_data"
    }
   ],
   "source": [
    "plt.rcParams['figure.figsize'] = (14,6)\n",
    "top_ten_restaurant_types = zomato.rest_type.value_counts().head(10)\n",
    "sns.barplot(top_ten_restaurant_types.index,top_ten_restaurant_types)\n",
    "plt.title(\"Top 10 Restaurants Type's\",fontsize = 20)\n",
    "plt.xlabel(\"Restaurants Type's\",fontsize = 20)\n",
    "plt.ylabel(\"count\")"
   ]
  },
  {
   "cell_type": "markdown",
   "metadata": {},
   "source": [
    "## 2. Top 10 liked dish's \n",
    "insight : Biryani is the Most Liked food among all,"
   ]
  },
  {
   "cell_type": "code",
   "execution_count": 14,
   "metadata": {},
   "outputs": [
    {
     "data": {
      "text/plain": [
       "Text(0, 0.5, 'count')"
      ]
     },
     "execution_count": 14,
     "metadata": {},
     "output_type": "execute_result"
    },
    {
     "data": {
      "image/png": "[encoded data removed]",
      "text/plain": [
       "<Figure size 1008x432 with 1 Axes>"
      ]
     },
     "metadata": {
      "needs_background": "light"
     },
     "output_type": "display_data"
    }
   ],
   "source": [
    "top_ten_liked_dish = zomato.dish_liked.value_counts().head(10)\n",
    "sns.barplot(top_ten_liked_dish.index,top_ten_liked_dish)\n",
    "plt.title(\"Top ten liked dish's\",fontsize = 20)\n",
    "plt.xlabel(\"Dish's \",fontsize = 20)\n",
    "plt.ylabel(\"count\")"
   ]
  },
  {
   "cell_type": "markdown",
   "metadata": {},
   "source": [
    "## 3.Which Food Service Type is  Preferred  by Most Of the Restaurant ?\n",
    "insight : Most of the Restaurant's prefer's \"Delivery\" and \"Dine-out\" as thier Service \""
   ]
  },
  {
   "cell_type": "code",
   "execution_count": 15,
   "metadata": {},
   "outputs": [
    {
     "data": {
      "text/plain": [
       "Text(0.5, 1.0, \"Food Service Type's \")"
      ]
     },
     "execution_count": 15,
     "metadata": {},
     "output_type": "execute_result"
    },
    {
     "data": {
      "image/png": "[encoded data removed]",
      "text/plain": [
       "<Figure size 1008x432 with 1 Axes>"
      ]
     },
     "metadata": {
      "needs_background": "light"
     },
     "output_type": "display_data"
    }
   ],
   "source": [
    "food_service_type = zomato.service_type.value_counts()\n",
    "sns.barplot(food_service_type.index,food_service_type)\n",
    "plt.title(\"Food Service Type's \",fontsize = 20)"
   ]
  },
  {
   "cell_type": "markdown",
   "metadata": {},
   "source": [
    "## 4.Top Five Cooking Style's Preferred By Restaurant's  ( cuisines )\n",
    "insight : North indian  (cuisines) cooking style is Prefferred By Most of the Restaurant's ."
   ]
  },
  {
   "cell_type": "code",
   "execution_count": 16,
   "metadata": {},
   "outputs": [
    {
     "data": {
      "text/plain": [
       "Text(0, 0.5, 'count')"
      ]
     },
     "execution_count": 16,
     "metadata": {},
     "output_type": "execute_result"
    },
    {
     "data": {
      "image/png": "[encoded data removed]",
      "text/plain": [
       "<Figure size 1008x432 with 1 Axes>"
      ]
     },
     "metadata": {
      "needs_background": "light"
     },
     "output_type": "display_data"
    }
   ],
   "source": [
    "top_five_cooking_style = zomato.cuisines.value_counts().head(5)\n",
    "sns.barplot(top_five_cooking_style.index,top_five_cooking_style)\n",
    "plt.title(\"Top Five Cooking Style's\",fontsize = 20)\n",
    "plt.xlabel(\"Cooking Style's \",fontsize = 20)\n",
    "plt.ylabel(\"count\")"
   ]
  },
  {
   "cell_type": "markdown",
   "metadata": {},
   "source": [
    "## 5.Which City Got More Number of Restaurant's ? (top 5)\n",
    "insight : Koramangala got more Number of Restaurant's "
   ]
  },
  {
   "cell_type": "code",
   "execution_count": 17,
   "metadata": {},
   "outputs": [],
   "source": [
    "# get the city\n",
    "zomato.city = zomato.city.str.split(\" \").str[0] "
   ]
  },
  {
   "cell_type": "code",
   "execution_count": 18,
   "metadata": {},
   "outputs": [
    {
     "data": {
      "text/plain": [
       "Text(0.5, 1.0, \"City with More Number of Restaurant's\")"
      ]
     },
     "execution_count": 18,
     "metadata": {},
     "output_type": "execute_result"
    },
    {
     "data": {
      "image/png": "[encoded data removed]",
      "text/plain": [
       "<Figure size 1008x432 with 1 Axes>"
      ]
     },
     "metadata": {
      "needs_background": "light"
     },
     "output_type": "display_data"
    }
   ],
   "source": [
    "city_rest_count = zomato.city.value_counts().head()\n",
    "sns.barplot(city_rest_count.index,city_rest_count)\n",
    "plt.title(\"City with More Number of Restaurant's\",fontsize = 20)"
   ]
  },
  {
   "cell_type": "markdown",
   "metadata": {},
   "source": [
    "## 6.  Let's see the Distribution Of Cost Column \n",
    "insight : Most of the Food Ordered Cost's is in between the range of 1 to 1000"
   ]
  },
  {
   "cell_type": "code",
   "execution_count": 19,
   "metadata": {},
   "outputs": [
    {
     "name": "stdout",
     "output_type": "stream",
     "text": [
      "Highest Food Ordered Cost : 6000\n",
      "Lowest  Food Ordered Cost : 40\n"
     ]
    },
    {
     "data": {
      "image/png": "[encoded data removed]",
      "text/plain": [
       "<Figure size 1008x432 with 1 Axes>"
      ]
     },
     "metadata": {
      "needs_background": "light"
     },
     "output_type": "display_data"
    }
   ],
   "source": [
    "sns.kdeplot(zomato[\"cost\"],shade = True)\n",
    "plt.title(\"Cost Distribution \")\n",
    "plt.xlabel(\"Cost Value's\")\n",
    "print(\"Highest Food Ordered Cost :\",zomato[\"cost\"].max())\n",
    "print(\"Lowest  Food Ordered Cost :\",zomato[\"cost\"].min())"
   ]
  },
  {
   "cell_type": "markdown",
   "metadata": {},
   "source": [
    "# Bivariate Analysis"
   ]
  },
  {
   "cell_type": "markdown",
   "metadata": {},
   "source": [
    "## 1. what is the  average rating given to the  Restaurant's in a Particular City (top 5  cities with highest rated Restaurant's ) \n",
    "insight : Restaurant's present in Chruch Road Location rated highest comapred to others,"
   ]
  },
  {
   "cell_type": "code",
   "execution_count": 20,
   "metadata": {},
   "outputs": [
    {
     "data": {
      "text/plain": [
       "Text(0.5, 1.0, \"Top 5 cities with highest rated Restaurant's \")"
      ]
     },
     "execution_count": 20,
     "metadata": {},
     "output_type": "execute_result"
    },
    {
     "data": {
      "image/png": "[encoded data removed]",
      "text/plain": [
       "<Figure size 1008x432 with 1 Axes>"
      ]
     },
     "metadata": {
      "needs_background": "light"
     },
     "output_type": "display_data"
    }
   ],
   "source": [
    "avg_city_rest_rate = pd.pivot_table(zomato,index = [\"city\"],values = [\"rate\"])\n",
    "avg_city_rest_rate = avg_city_rest_rate.sort_values(by = 'rate',ascending = False).head(5)\n",
    "sns.barplot(avg_city_rest_rate.index,avg_city_rest_rate[\"rate\"])\n",
    "plt.title(\"Top 5 cities with highest rated Restaurant's \",fontsize = 20)"
   ]
  },
  {
   "cell_type": "markdown",
   "metadata": {},
   "source": [
    "## 2. Best Restaurant's in best  Cities (top 5  cities with highest rated Restaurant's )"
   ]
  },
  {
   "cell_type": "code",
   "execution_count": 21,
   "metadata": {},
   "outputs": [
    {
     "data": {
      "image/png": "[encoded data removed]",
      "text/plain": [
       "<Figure size 576x288 with 1 Axes>"
      ]
     },
     "metadata": {
      "needs_background": "light"
     },
     "output_type": "display_data"
    }
   ],
   "source": [
    "plt.rcParams['figure.figsize'] = (8,4)\n",
    "top_rest_in_chruch_road = zomato[zomato[\"city\"] == \"Church\"].sort_values(by = \"rate\",ascending = False).head(5)\n",
    "sns.barplot(top_rest_in_chruch_road.name,top_rest_in_chruch_road.rate)\n",
    "plt.title(\"Best Restaurant's in Chruch Road\")\n",
    "plt.rcParams['figure.figsize'] = (8,4)"
   ]
  },
  {
   "cell_type": "code",
   "execution_count": 22,
   "metadata": {},
   "outputs": [
    {
     "data": {
      "text/plain": [
       "Text(0.5, 1.0, \"Best Restaurant's in Residency Road\")"
      ]
     },
     "execution_count": 22,
     "metadata": {},
     "output_type": "execute_result"
    },
    {
     "data": {
      "image/png": "[encoded data removed]",
      "text/plain": [
       "<Figure size 576x288 with 1 Axes>"
      ]
     },
     "metadata": {
      "needs_background": "light"
     },
     "output_type": "display_data"
    }
   ],
   "source": [
    "top_rest_in_Residency = zomato[zomato[\"city\"] == \"Residency\"].sort_values(by = \"rate\",ascending = False).head(5)\n",
    "sns.barplot(top_rest_in_Residency.name,top_rest_in_Residency.rate)\n",
    "plt.title(\"Best Restaurant's in Residency Road\")"
   ]
  },
  {
   "cell_type": "code",
   "execution_count": 23,
   "metadata": {},
   "outputs": [
    {
     "data": {
      "text/plain": [
       "Text(0.5, 1.0, \"Best Restaurant's in Brigade Road\")"
      ]
     },
     "execution_count": 23,
     "metadata": {},
     "output_type": "execute_result"
    },
    {
     "data": {
      "image/png": "[encoded data removed]",
      "text/plain": [
       "<Figure size 576x288 with 1 Axes>"
      ]
     },
     "metadata": {
      "needs_background": "light"
     },
     "output_type": "display_data"
    }
   ],
   "source": [
    "top_rest_in_Brigade = zomato[zomato[\"city\"] == \"Brigade\"].sort_values(by = \"rate\",ascending = False).head(5)\n",
    "sns.barplot(top_rest_in_Brigade.name,top_rest_in_Brigade.rate)\n",
    "plt.title(\"Best Restaurant's in Brigade Road\")"
   ]
  },
  {
   "cell_type": "code",
   "execution_count": 24,
   "metadata": {},
   "outputs": [
    {
     "data": {
      "text/plain": [
       "Text(0.5, 1.0, \"Best Restaurant's in MG Road\")"
      ]
     },
     "execution_count": 24,
     "metadata": {},
     "output_type": "execute_result"
    },
    {
     "data": {
      "image/png": "[encoded data removed]",
      "text/plain": [
       "<Figure size 576x288 with 1 Axes>"
      ]
     },
     "metadata": {
      "needs_background": "light"
     },
     "output_type": "display_data"
    }
   ],
   "source": [
    "top_rest_in_MG = zomato[zomato[\"city\"] == \"MG\"].sort_values(by = \"rate\",ascending = False).head(5)\n",
    "sns.barplot(top_rest_in_MG.name,top_rest_in_MG.rate)\n",
    "plt.title(\"Best Restaurant's in MG Road\")"
   ]
  },
  {
   "cell_type": "markdown",
   "metadata": {},
   "source": [
    "## 3.Top 5 Food price's "
   ]
  },
  {
   "cell_type": "code",
   "execution_count": 25,
   "metadata": {},
   "outputs": [
    {
     "data": {
      "text/html": [
       "<div>\n",
       "<style scoped>\n",
       "    .dataframe tbody tr th:only-of-type {\n",
       "        vertical-align: middle;\n",
       "    }\n",
       "\n",
       "    .dataframe tbody tr th {\n",
       "        vertical-align: top;\n",
       "    }\n",
       "\n",
       "    .dataframe thead th {\n",
       "        text-align: right;\n",
       "    }\n",
       "</style>\n",
       "<table border=\"1\" class=\"dataframe\">\n",
       "  <thead>\n",
       "    <tr style=\"text-align: right;\">\n",
       "      <th></th>\n",
       "      <th>dish_liked</th>\n",
       "      <th>cost</th>\n",
       "    </tr>\n",
       "  </thead>\n",
       "  <tbody>\n",
       "    <tr>\n",
       "      <th>45618</th>\n",
       "      <td>Wine, Asparagus Soup, Creme Brulee, Pasta, Rav...</td>\n",
       "      <td>6000</td>\n",
       "    </tr>\n",
       "    <tr>\n",
       "      <th>19139</th>\n",
       "      <td>Wine, Asparagus Soup, Creme Brulee, Pasta, Rav...</td>\n",
       "      <td>6000</td>\n",
       "    </tr>\n",
       "    <tr>\n",
       "      <th>40266</th>\n",
       "      <td>Dal Bukhara, Chocolate Cake, Butter Chicken, N...</td>\n",
       "      <td>5000</td>\n",
       "    </tr>\n",
       "    <tr>\n",
       "      <th>41591</th>\n",
       "      <td>Cocktails, Jumbo Prawns, Charcuterie Platter, ...</td>\n",
       "      <td>4500</td>\n",
       "    </tr>\n",
       "    <tr>\n",
       "      <th>37715</th>\n",
       "      <td>Pasta, Veg Sushi, Biryani, Lunch Buffet, Waffl...</td>\n",
       "      <td>4100</td>\n",
       "    </tr>\n",
       "  </tbody>\n",
       "</table>\n",
       "</div>"
      ],
      "text/plain": [
       "                                              dish_liked  cost\n",
       "45618  Wine, Asparagus Soup, Creme Brulee, Pasta, Rav...  6000\n",
       "19139  Wine, Asparagus Soup, Creme Brulee, Pasta, Rav...  6000\n",
       "40266  Dal Bukhara, Chocolate Cake, Butter Chicken, N...  5000\n",
       "41591  Cocktails, Jumbo Prawns, Charcuterie Platter, ...  4500\n",
       "37715  Pasta, Veg Sushi, Biryani, Lunch Buffet, Waffl...  4100"
      ]
     },
     "execution_count": 25,
     "metadata": {},
     "output_type": "execute_result"
    }
   ],
   "source": [
    "food_with_highest_price = zomato[[\"dish_liked\",\"cost\"]]\n",
    "food_with_highest_price = food_with_highest_price.drop_duplicates().sort_values(by = \"cost\",ascending = False ).head(5)\n",
    "food_with_highest_price"
   ]
  },
  {
   "cell_type": "markdown",
   "metadata": {},
   "source": [
    "## 4.What type of Order's do Most of Restaurant's Get (offline v/s online )\n",
    "insight  : Most of Restaurant's Get online order's "
   ]
  },
  {
   "cell_type": "code",
   "execution_count": 26,
   "metadata": {},
   "outputs": [
    {
     "data": {
      "image/png": "[encoded data removed]",
      "text/plain": [
       "<Figure size 576x288 with 1 Axes>"
      ]
     },
     "metadata": {},
     "output_type": "display_data"
    }
   ],
   "source": [
    "order_type = zomato.online_order.value_counts()\n",
    "plt.pie(order_type,labels = order_type.index,autopct='%1.1f%%', shadow=True)\n",
    "plt.show()"
   ]
  },
  {
   "cell_type": "markdown",
   "metadata": {},
   "source": [
    "## 5. Restaurant with Highest Votes\n"
   ]
  },
  {
   "cell_type": "code",
   "execution_count": 27,
   "metadata": {},
   "outputs": [
    {
     "data": {
      "text/plain": [
       "Text(0, 0.5, 'Number of Votes ')"
      ]
     },
     "execution_count": 27,
     "metadata": {},
     "output_type": "execute_result"
    },
    {
     "data": {
      "image/png": "[encoded data removed]",
      "text/plain": [
       "<Figure size 576x288 with 1 Axes>"
      ]
     },
     "metadata": {
      "needs_background": "light"
     },
     "output_type": "display_data"
    }
   ],
   "source": [
    "rest_with_highest_votes = zomato[[\"name\",\"votes\"]].drop_duplicates().sort_values(by=\"votes\",ascending = False).head(5)\n",
    "sns.barplot(rest_with_highest_votes.name,rest_with_highest_votes.votes)\n",
    "plt.title(\"Top 3 Restaurant's of Banglore \")\n",
    "plt.xlabel(\"Top Voted Restaurant's\")\n",
    "plt.ylabel(\"Number of Votes \")"
   ]
  },
  {
   "cell_type": "markdown",
   "metadata": {},
   "source": [
    "## 6.is there any relationship between (votes v/s cost) ?\n",
    "insight : There is no relationship (votes v/s cost)"
   ]
  },
  {
   "cell_type": "code",
   "execution_count": 28,
   "metadata": {},
   "outputs": [
    {
     "data": {
      "text/plain": [
       "<seaborn.axisgrid.JointGrid at 0x16d3f670>"
      ]
     },
     "execution_count": 28,
     "metadata": {},
     "output_type": "execute_result"
    },
    {
     "data": {
      "image/png": "[encoded data removed]",
      "text/plain": [
       "<Figure size 432x432 with 3 Axes>"
      ]
     },
     "metadata": {
      "needs_background": "light"
     },
     "output_type": "display_data"
    }
   ],
   "source": [
    "sns.jointplot(zomato[\"votes\"],zomato[\"cost\"])"
   ]
  },
  {
   "cell_type": "markdown",
   "metadata": {},
   "source": [
    "## 7.let's find best  restaurants\n",
    "The criteria must be: \n",
    "1.cheapest,\n",
    "2.highly rated,\n",
    "3.reliable(large number of votes) options"
   ]
  },
  {
   "cell_type": "code",
   "execution_count": 29,
   "metadata": {},
   "outputs": [],
   "source": [
    "# eg : let's find best restuarant under given criteria for eating \n",
    "# Paneer Peri Peri, Pancakes, Fajitas, Sweet Crepe, Peri Peri Chicken, Chicken Breast, Nutella Crepe"
   ]
  },
  {
   "cell_type": "code",
   "execution_count": 30,
   "metadata": {},
   "outputs": [],
   "source": [
    "#assume restaurant's with greater than 4.5 ratings are best one\n",
    "high_rated_rest = zomato[zomato[\"rate\"]>4.5]"
   ]
  },
  {
   "cell_type": "code",
   "execution_count": 31,
   "metadata": {},
   "outputs": [],
   "source": [
    "#assume any one most_liked_dished and compare the result's in order to find cheapest with better quailty\n",
    "#high_rated_rest.dish_liked.value_counts() #uncomment this to know better\n",
    "high_rated_cheapprice_rest = high_rated_rest[high_rated_rest[\"dish_liked\"]==\"Paneer Peri Peri, Pancakes, Fajitas, Sweet Crepe, Peri Peri Chicken, Chicken Breast, Nutella Crepe\"]"
   ]
  },
  {
   "cell_type": "code",
   "execution_count": 32,
   "metadata": {},
   "outputs": [
    {
     "data": {
      "text/html": [
       "<div>\n",
       "<style scoped>\n",
       "    .dataframe tbody tr th:only-of-type {\n",
       "        vertical-align: middle;\n",
       "    }\n",
       "\n",
       "    .dataframe tbody tr th {\n",
       "        vertical-align: top;\n",
       "    }\n",
       "\n",
       "    .dataframe thead th {\n",
       "        text-align: right;\n",
       "    }\n",
       "</style>\n",
       "<table border=\"1\" class=\"dataframe\">\n",
       "  <thead>\n",
       "    <tr style=\"text-align: right;\">\n",
       "      <th></th>\n",
       "      <th>name</th>\n",
       "      <th>online_order</th>\n",
       "      <th>book_table</th>\n",
       "      <th>rate</th>\n",
       "      <th>votes</th>\n",
       "      <th>rest_type</th>\n",
       "      <th>dish_liked</th>\n",
       "      <th>cuisines</th>\n",
       "      <th>cost</th>\n",
       "      <th>service_type</th>\n",
       "      <th>city</th>\n",
       "    </tr>\n",
       "  </thead>\n",
       "  <tbody>\n",
       "    <tr>\n",
       "      <th>8341</th>\n",
       "      <td>Lot Like Crepes</td>\n",
       "      <td>Yes</td>\n",
       "      <td>No</td>\n",
       "      <td>4.7</td>\n",
       "      <td>1022</td>\n",
       "      <td>Cafe, Dessert Parlor</td>\n",
       "      <td>Paneer Peri Peri, Pancakes, Fajitas, Sweet Cre...</td>\n",
       "      <td>Cafe, Desserts, Continental</td>\n",
       "      <td>550</td>\n",
       "      <td>Cafes</td>\n",
       "      <td>BTM</td>\n",
       "    </tr>\n",
       "    <tr>\n",
       "      <th>9158</th>\n",
       "      <td>Lot Like Crepes</td>\n",
       "      <td>Yes</td>\n",
       "      <td>No</td>\n",
       "      <td>4.7</td>\n",
       "      <td>1022</td>\n",
       "      <td>Cafe, Dessert Parlor</td>\n",
       "      <td>Paneer Peri Peri, Pancakes, Fajitas, Sweet Cre...</td>\n",
       "      <td>Cafe, Desserts, Continental</td>\n",
       "      <td>550</td>\n",
       "      <td>Delivery</td>\n",
       "      <td>BTM</td>\n",
       "    </tr>\n",
       "    <tr>\n",
       "      <th>10269</th>\n",
       "      <td>Lot Like Crepes</td>\n",
       "      <td>Yes</td>\n",
       "      <td>No</td>\n",
       "      <td>4.6</td>\n",
       "      <td>1028</td>\n",
       "      <td>Dessert Parlor</td>\n",
       "      <td>Paneer Peri Peri, Pancakes, Fajitas, Sweet Cre...</td>\n",
       "      <td>Desserts, Continental</td>\n",
       "      <td>550</td>\n",
       "      <td>Desserts</td>\n",
       "      <td>BTM</td>\n",
       "    </tr>\n",
       "    <tr>\n",
       "      <th>10938</th>\n",
       "      <td>Lot Like Crepes</td>\n",
       "      <td>Yes</td>\n",
       "      <td>No</td>\n",
       "      <td>4.7</td>\n",
       "      <td>1022</td>\n",
       "      <td>Cafe, Dessert Parlor</td>\n",
       "      <td>Paneer Peri Peri, Pancakes, Fajitas, Sweet Cre...</td>\n",
       "      <td>Cafe, Desserts, Continental</td>\n",
       "      <td>550</td>\n",
       "      <td>Dine-out</td>\n",
       "      <td>BTM</td>\n",
       "    </tr>\n",
       "    <tr>\n",
       "      <th>20230</th>\n",
       "      <td>Lot Like Crepes</td>\n",
       "      <td>Yes</td>\n",
       "      <td>No</td>\n",
       "      <td>4.6</td>\n",
       "      <td>1024</td>\n",
       "      <td>Cafe, Dessert Parlor</td>\n",
       "      <td>Paneer Peri Peri, Pancakes, Fajitas, Sweet Cre...</td>\n",
       "      <td>Cafe, Desserts, Continental</td>\n",
       "      <td>550</td>\n",
       "      <td>Delivery</td>\n",
       "      <td>Jayanagar</td>\n",
       "    </tr>\n",
       "    <tr>\n",
       "      <th>26568</th>\n",
       "      <td>Lot Like Crepes</td>\n",
       "      <td>Yes</td>\n",
       "      <td>No</td>\n",
       "      <td>4.6</td>\n",
       "      <td>1026</td>\n",
       "      <td>Cafe, Dessert Parlor</td>\n",
       "      <td>Paneer Peri Peri, Pancakes, Fajitas, Sweet Cre...</td>\n",
       "      <td>Cafe, Desserts, Continental</td>\n",
       "      <td>550</td>\n",
       "      <td>Cafes</td>\n",
       "      <td>Koramangala</td>\n",
       "    </tr>\n",
       "    <tr>\n",
       "      <th>26878</th>\n",
       "      <td>Lot Like Crepes</td>\n",
       "      <td>Yes</td>\n",
       "      <td>No</td>\n",
       "      <td>4.6</td>\n",
       "      <td>1026</td>\n",
       "      <td>Cafe, Dessert Parlor</td>\n",
       "      <td>Paneer Peri Peri, Pancakes, Fajitas, Sweet Cre...</td>\n",
       "      <td>Cafe, Desserts, Continental</td>\n",
       "      <td>550</td>\n",
       "      <td>Delivery</td>\n",
       "      <td>Koramangala</td>\n",
       "    </tr>\n",
       "    <tr>\n",
       "      <th>28160</th>\n",
       "      <td>Lot Like Crepes</td>\n",
       "      <td>Yes</td>\n",
       "      <td>No</td>\n",
       "      <td>4.6</td>\n",
       "      <td>1026</td>\n",
       "      <td>Cafe, Dessert Parlor</td>\n",
       "      <td>Paneer Peri Peri, Pancakes, Fajitas, Sweet Cre...</td>\n",
       "      <td>Cafe, Desserts, Continental</td>\n",
       "      <td>550</td>\n",
       "      <td>Desserts</td>\n",
       "      <td>Koramangala</td>\n",
       "    </tr>\n",
       "    <tr>\n",
       "      <th>28463</th>\n",
       "      <td>Lot Like Crepes</td>\n",
       "      <td>Yes</td>\n",
       "      <td>No</td>\n",
       "      <td>4.6</td>\n",
       "      <td>1027</td>\n",
       "      <td>Cafe, Dessert Parlor</td>\n",
       "      <td>Paneer Peri Peri, Pancakes, Fajitas, Sweet Cre...</td>\n",
       "      <td>Cafe, Desserts, Continental</td>\n",
       "      <td>550</td>\n",
       "      <td>Dine-out</td>\n",
       "      <td>Koramangala</td>\n",
       "    </tr>\n",
       "    <tr>\n",
       "      <th>29652</th>\n",
       "      <td>Lot Like Crepes</td>\n",
       "      <td>Yes</td>\n",
       "      <td>No</td>\n",
       "      <td>4.6</td>\n",
       "      <td>1026</td>\n",
       "      <td>Cafe, Dessert Parlor</td>\n",
       "      <td>Paneer Peri Peri, Pancakes, Fajitas, Sweet Cre...</td>\n",
       "      <td>Cafe, Desserts, Continental</td>\n",
       "      <td>550</td>\n",
       "      <td>Delivery</td>\n",
       "      <td>Koramangala</td>\n",
       "    </tr>\n",
       "    <tr>\n",
       "      <th>30926</th>\n",
       "      <td>Lot Like Crepes</td>\n",
       "      <td>Yes</td>\n",
       "      <td>No</td>\n",
       "      <td>4.6</td>\n",
       "      <td>1026</td>\n",
       "      <td>Cafe, Dessert Parlor</td>\n",
       "      <td>Paneer Peri Peri, Pancakes, Fajitas, Sweet Cre...</td>\n",
       "      <td>Cafe, Desserts, Continental</td>\n",
       "      <td>550</td>\n",
       "      <td>Desserts</td>\n",
       "      <td>Koramangala</td>\n",
       "    </tr>\n",
       "    <tr>\n",
       "      <th>31280</th>\n",
       "      <td>Lot Like Crepes</td>\n",
       "      <td>Yes</td>\n",
       "      <td>No</td>\n",
       "      <td>4.6</td>\n",
       "      <td>1026</td>\n",
       "      <td>Cafe, Dessert Parlor</td>\n",
       "      <td>Paneer Peri Peri, Pancakes, Fajitas, Sweet Cre...</td>\n",
       "      <td>Cafe, Desserts, Continental</td>\n",
       "      <td>550</td>\n",
       "      <td>Dine-out</td>\n",
       "      <td>Koramangala</td>\n",
       "    </tr>\n",
       "    <tr>\n",
       "      <th>32171</th>\n",
       "      <td>Lot Like Crepes</td>\n",
       "      <td>Yes</td>\n",
       "      <td>No</td>\n",
       "      <td>4.6</td>\n",
       "      <td>1026</td>\n",
       "      <td>Cafe, Dessert Parlor</td>\n",
       "      <td>Paneer Peri Peri, Pancakes, Fajitas, Sweet Cre...</td>\n",
       "      <td>Cafe, Desserts, Continental</td>\n",
       "      <td>550</td>\n",
       "      <td>Cafes</td>\n",
       "      <td>Koramangala</td>\n",
       "    </tr>\n",
       "    <tr>\n",
       "      <th>33043</th>\n",
       "      <td>Lot Like Crepes</td>\n",
       "      <td>Yes</td>\n",
       "      <td>No</td>\n",
       "      <td>4.6</td>\n",
       "      <td>1026</td>\n",
       "      <td>Cafe, Dessert Parlor</td>\n",
       "      <td>Paneer Peri Peri, Pancakes, Fajitas, Sweet Cre...</td>\n",
       "      <td>Cafe, Desserts, Continental</td>\n",
       "      <td>550</td>\n",
       "      <td>Delivery</td>\n",
       "      <td>Koramangala</td>\n",
       "    </tr>\n",
       "    <tr>\n",
       "      <th>33662</th>\n",
       "      <td>Lot Like Crepes</td>\n",
       "      <td>Yes</td>\n",
       "      <td>No</td>\n",
       "      <td>4.6</td>\n",
       "      <td>1026</td>\n",
       "      <td>Cafe, Dessert Parlor</td>\n",
       "      <td>Paneer Peri Peri, Pancakes, Fajitas, Sweet Cre...</td>\n",
       "      <td>Cafe, Desserts, Continental</td>\n",
       "      <td>550</td>\n",
       "      <td>Desserts</td>\n",
       "      <td>Koramangala</td>\n",
       "    </tr>\n",
       "    <tr>\n",
       "      <th>33994</th>\n",
       "      <td>Lot Like Crepes</td>\n",
       "      <td>Yes</td>\n",
       "      <td>No</td>\n",
       "      <td>4.6</td>\n",
       "      <td>1026</td>\n",
       "      <td>Cafe, Dessert Parlor</td>\n",
       "      <td>Paneer Peri Peri, Pancakes, Fajitas, Sweet Cre...</td>\n",
       "      <td>Cafe, Desserts, Continental</td>\n",
       "      <td>550</td>\n",
       "      <td>Dine-out</td>\n",
       "      <td>Koramangala</td>\n",
       "    </tr>\n",
       "    <tr>\n",
       "      <th>34765</th>\n",
       "      <td>Lot Like Crepes</td>\n",
       "      <td>Yes</td>\n",
       "      <td>No</td>\n",
       "      <td>4.6</td>\n",
       "      <td>1026</td>\n",
       "      <td>Cafe, Dessert Parlor</td>\n",
       "      <td>Paneer Peri Peri, Pancakes, Fajitas, Sweet Cre...</td>\n",
       "      <td>Cafe, Desserts, Continental</td>\n",
       "      <td>550</td>\n",
       "      <td>Cafes</td>\n",
       "      <td>Koramangala</td>\n",
       "    </tr>\n",
       "    <tr>\n",
       "      <th>35754</th>\n",
       "      <td>Lot Like Crepes</td>\n",
       "      <td>Yes</td>\n",
       "      <td>No</td>\n",
       "      <td>4.6</td>\n",
       "      <td>1026</td>\n",
       "      <td>Cafe, Dessert Parlor</td>\n",
       "      <td>Paneer Peri Peri, Pancakes, Fajitas, Sweet Cre...</td>\n",
       "      <td>Cafe, Desserts, Continental</td>\n",
       "      <td>550</td>\n",
       "      <td>Delivery</td>\n",
       "      <td>Koramangala</td>\n",
       "    </tr>\n",
       "    <tr>\n",
       "      <th>36393</th>\n",
       "      <td>Lot Like Crepes</td>\n",
       "      <td>Yes</td>\n",
       "      <td>No</td>\n",
       "      <td>4.6</td>\n",
       "      <td>1026</td>\n",
       "      <td>Cafe, Dessert Parlor</td>\n",
       "      <td>Paneer Peri Peri, Pancakes, Fajitas, Sweet Cre...</td>\n",
       "      <td>Cafe, Desserts, Continental</td>\n",
       "      <td>550</td>\n",
       "      <td>Desserts</td>\n",
       "      <td>Koramangala</td>\n",
       "    </tr>\n",
       "    <tr>\n",
       "      <th>36586</th>\n",
       "      <td>Lot Like Crepes</td>\n",
       "      <td>Yes</td>\n",
       "      <td>No</td>\n",
       "      <td>4.6</td>\n",
       "      <td>1027</td>\n",
       "      <td>Cafe, Dessert Parlor</td>\n",
       "      <td>Paneer Peri Peri, Pancakes, Fajitas, Sweet Cre...</td>\n",
       "      <td>Cafe, Desserts, Continental</td>\n",
       "      <td>550</td>\n",
       "      <td>Dine-out</td>\n",
       "      <td>Koramangala</td>\n",
       "    </tr>\n",
       "  </tbody>\n",
       "</table>\n",
       "</div>"
      ],
      "text/plain": [
       "                  name online_order book_table  rate  votes  \\\n",
       "8341   Lot Like Crepes          Yes         No   4.7   1022   \n",
       "9158   Lot Like Crepes          Yes         No   4.7   1022   \n",
       "10269  Lot Like Crepes          Yes         No   4.6   1028   \n",
       "10938  Lot Like Crepes          Yes         No   4.7   1022   \n",
       "20230  Lot Like Crepes          Yes         No   4.6   1024   \n",
       "26568  Lot Like Crepes          Yes         No   4.6   1026   \n",
       "26878  Lot Like Crepes          Yes         No   4.6   1026   \n",
       "28160  Lot Like Crepes          Yes         No   4.6   1026   \n",
       "28463  Lot Like Crepes          Yes         No   4.6   1027   \n",
       "29652  Lot Like Crepes          Yes         No   4.6   1026   \n",
       "30926  Lot Like Crepes          Yes         No   4.6   1026   \n",
       "31280  Lot Like Crepes          Yes         No   4.6   1026   \n",
       "32171  Lot Like Crepes          Yes         No   4.6   1026   \n",
       "33043  Lot Like Crepes          Yes         No   4.6   1026   \n",
       "33662  Lot Like Crepes          Yes         No   4.6   1026   \n",
       "33994  Lot Like Crepes          Yes         No   4.6   1026   \n",
       "34765  Lot Like Crepes          Yes         No   4.6   1026   \n",
       "35754  Lot Like Crepes          Yes         No   4.6   1026   \n",
       "36393  Lot Like Crepes          Yes         No   4.6   1026   \n",
       "36586  Lot Like Crepes          Yes         No   4.6   1027   \n",
       "\n",
       "                  rest_type  \\\n",
       "8341   Cafe, Dessert Parlor   \n",
       "9158   Cafe, Dessert Parlor   \n",
       "10269        Dessert Parlor   \n",
       "10938  Cafe, Dessert Parlor   \n",
       "20230  Cafe, Dessert Parlor   \n",
       "26568  Cafe, Dessert Parlor   \n",
       "26878  Cafe, Dessert Parlor   \n",
       "28160  Cafe, Dessert Parlor   \n",
       "28463  Cafe, Dessert Parlor   \n",
       "29652  Cafe, Dessert Parlor   \n",
       "30926  Cafe, Dessert Parlor   \n",
       "31280  Cafe, Dessert Parlor   \n",
       "32171  Cafe, Dessert Parlor   \n",
       "33043  Cafe, Dessert Parlor   \n",
       "33662  Cafe, Dessert Parlor   \n",
       "33994  Cafe, Dessert Parlor   \n",
       "34765  Cafe, Dessert Parlor   \n",
       "35754  Cafe, Dessert Parlor   \n",
       "36393  Cafe, Dessert Parlor   \n",
       "36586  Cafe, Dessert Parlor   \n",
       "\n",
       "                                              dish_liked  \\\n",
       "8341   Paneer Peri Peri, Pancakes, Fajitas, Sweet Cre...   \n",
       "9158   Paneer Peri Peri, Pancakes, Fajitas, Sweet Cre...   \n",
       "10269  Paneer Peri Peri, Pancakes, Fajitas, Sweet Cre...   \n",
       "10938  Paneer Peri Peri, Pancakes, Fajitas, Sweet Cre...   \n",
       "20230  Paneer Peri Peri, Pancakes, Fajitas, Sweet Cre...   \n",
       "26568  Paneer Peri Peri, Pancakes, Fajitas, Sweet Cre...   \n",
       "26878  Paneer Peri Peri, Pancakes, Fajitas, Sweet Cre...   \n",
       "28160  Paneer Peri Peri, Pancakes, Fajitas, Sweet Cre...   \n",
       "28463  Paneer Peri Peri, Pancakes, Fajitas, Sweet Cre...   \n",
       "29652  Paneer Peri Peri, Pancakes, Fajitas, Sweet Cre...   \n",
       "30926  Paneer Peri Peri, Pancakes, Fajitas, Sweet Cre...   \n",
       "31280  Paneer Peri Peri, Pancakes, Fajitas, Sweet Cre...   \n",
       "32171  Paneer Peri Peri, Pancakes, Fajitas, Sweet Cre...   \n",
       "33043  Paneer Peri Peri, Pancakes, Fajitas, Sweet Cre...   \n",
       "33662  Paneer Peri Peri, Pancakes, Fajitas, Sweet Cre...   \n",
       "33994  Paneer Peri Peri, Pancakes, Fajitas, Sweet Cre...   \n",
       "34765  Paneer Peri Peri, Pancakes, Fajitas, Sweet Cre...   \n",
       "35754  Paneer Peri Peri, Pancakes, Fajitas, Sweet Cre...   \n",
       "36393  Paneer Peri Peri, Pancakes, Fajitas, Sweet Cre...   \n",
       "36586  Paneer Peri Peri, Pancakes, Fajitas, Sweet Cre...   \n",
       "\n",
       "                          cuisines  cost service_type         city  \n",
       "8341   Cafe, Desserts, Continental   550        Cafes          BTM  \n",
       "9158   Cafe, Desserts, Continental   550     Delivery          BTM  \n",
       "10269        Desserts, Continental   550     Desserts          BTM  \n",
       "10938  Cafe, Desserts, Continental   550     Dine-out          BTM  \n",
       "20230  Cafe, Desserts, Continental   550     Delivery    Jayanagar  \n",
       "26568  Cafe, Desserts, Continental   550        Cafes  Koramangala  \n",
       "26878  Cafe, Desserts, Continental   550     Delivery  Koramangala  \n",
       "28160  Cafe, Desserts, Continental   550     Desserts  Koramangala  \n",
       "28463  Cafe, Desserts, Continental   550     Dine-out  Koramangala  \n",
       "29652  Cafe, Desserts, Continental   550     Delivery  Koramangala  \n",
       "30926  Cafe, Desserts, Continental   550     Desserts  Koramangala  \n",
       "31280  Cafe, Desserts, Continental   550     Dine-out  Koramangala  \n",
       "32171  Cafe, Desserts, Continental   550        Cafes  Koramangala  \n",
       "33043  Cafe, Desserts, Continental   550     Delivery  Koramangala  \n",
       "33662  Cafe, Desserts, Continental   550     Desserts  Koramangala  \n",
       "33994  Cafe, Desserts, Continental   550     Dine-out  Koramangala  \n",
       "34765  Cafe, Desserts, Continental   550        Cafes  Koramangala  \n",
       "35754  Cafe, Desserts, Continental   550     Delivery  Koramangala  \n",
       "36393  Cafe, Desserts, Continental   550     Desserts  Koramangala  \n",
       "36586  Cafe, Desserts, Continental   550     Dine-out  Koramangala  "
      ]
     },
     "execution_count": 32,
     "metadata": {},
     "output_type": "execute_result"
    }
   ],
   "source": [
    "# consider Restaurant with Highest vote's \n",
    "# assume restaurant's with votes greater than 700 are all good once's,\n",
    "high_rated_cheapprice_highvotes_rest = high_rated_cheapprice_rest[high_rated_cheapprice_rest[\"votes\"]>700]\n",
    "best_restuarant = high_rated_cheapprice_highvotes_rest[\"cost\"].min()\n",
    "high_rated_cheapprice_highvotes_rest[high_rated_cheapprice_highvotes_rest[\"cost\"]==best_restuarant].iloc[:,:]\n",
    "\n",
    "# below are the best restaurant's for eating ,\n",
    "# Paneer Peri Peri, Pancakes, Fajitas, Sweet Crepe, Peri Peri Chicken, Chicken Breast, Nutella Crepe"
   ]
  },
  {
   "cell_type": "markdown",
   "metadata": {},
   "source": [
    "## let's see the correlation between the features"
   ]
  },
  {
   "cell_type": "code",
   "execution_count": 33,
   "metadata": {},
   "outputs": [
    {
     "data": {
      "text/plain": [
       "<matplotlib.axes._subplots.AxesSubplot at 0xa762490>"
      ]
     },
     "execution_count": 33,
     "metadata": {},
     "output_type": "execute_result"
    },
    {
     "data": {
      "image/png": "[encoded data removed]",
      "text/plain": [
       "<Figure size 576x288 with 2 Axes>"
      ]
     },
     "metadata": {
      "needs_background": "light"
     },
     "output_type": "display_data"
    }
   ],
   "source": [
    "sns.heatmap(zomato.corr(),annot = True)\n",
    "# feature's are highly correlated"
   ]
  },
  {
   "cell_type": "code",
   "execution_count": 36,
   "metadata": {
    "scrolled": true
   },
   "outputs": [],
   "source": [
    "def get_num_for_cat(zomato):\n",
    "    for column in zomato.columns[~zomato.columns.isin(['rate', 'cost', 'votes'])]:\n",
    "        zomato[column] = zomato[column].factorize()[0]\n",
    "    return zomato\n",
    "\n",
    "z_fact = get_num_for_cat(zomato.copy())"
   ]
  },
  {
   "cell_type": "code",
   "execution_count": 37,
   "metadata": {},
   "outputs": [],
   "source": [
    "import numpy as np\n",
    "from sklearn.model_selection import train_test_split\n",
    "x = z_fact.loc[:,z_fact.columns!=\"rate\"]\n",
    "y = np.array(z_fact.loc[:,\"rate\"])"
   ]
  },
  {
   "cell_type": "code",
   "execution_count": 38,
   "metadata": {},
   "outputs": [],
   "source": [
    "from sklearn.linear_model import LinearRegression\n",
    "from sklearn.ensemble import RandomForestRegressor\n",
    "from sklearn.metrics import r2_score"
   ]
  },
  {
   "cell_type": "code",
   "execution_count": 39,
   "metadata": {},
   "outputs": [],
   "source": [
    "xtrain,xtest,ytrain,ytest=train_test_split(x,y,test_size=.3,random_state=1)"
   ]
  },
  {
   "cell_type": "markdown",
   "metadata": {},
   "source": [
    "# Linear Regression Model"
   ]
  },
  {
   "cell_type": "code",
   "execution_count": 41,
   "metadata": {},
   "outputs": [
    {
     "name": "stdout",
     "output_type": "stream",
     "text": [
      "r2_score for Linear Reg model :  0.23520810826738492\n"
     ]
    }
   ],
   "source": [
    "lr_model =LinearRegression()\n",
    "lr_model.fit(xtrain,ytrain)\n",
    "ypred=lr_model.predict(xtest)\n",
    "print(\"r2_score for Linear Reg model : \",r2_score(ytest,ypred))"
   ]
  },
  {
   "cell_type": "markdown",
   "metadata": {},
   "source": [
    "## RandomForestRegressor"
   ]
  },
  {
   "cell_type": "code",
   "execution_count": 42,
   "metadata": {},
   "outputs": [
    {
     "data": {
      "text/plain": [
       "0.8100799758749725"
      ]
     },
     "execution_count": 42,
     "metadata": {},
     "output_type": "execute_result"
    }
   ],
   "source": [
    "rf_model = RandomForestRegressor(n_estimators=200,min_samples_split=20,random_state=43)\n",
    "rf_model.fit(xtrain,ytrain)\n",
    "ypred = rf_model.predict(xtest)\n",
    "r2_score(ytest,ypred)"
   ]
  },
  {
   "cell_type": "code",
   "execution_count": 43,
   "metadata": {},
   "outputs": [
    {
     "name": "stdout",
     "output_type": "stream",
     "text": [
      "r2_score for RandomForestRegressor model :  0.8100799758749725\n"
     ]
    }
   ],
   "source": [
    "print(\"r2_score for RandomForestRegressor model : \",r2_score(ytest,ypred))"
   ]
  },
  {
   "cell_type": "code",
   "execution_count": null,
   "metadata": {},
   "outputs": [],
   "source": []
  }
 ],
 "metadata": {
  "kernelspec": {
   "display_name": "Python 3",
   "language": "python",
   "name": "python3"
  },
  "language_info": {
   "codemirror_mode": {
    "name": "ipython",
    "version": 3
   },
   "file_extension": ".py",
   "mimetype": "text/x-python",
   "name": "python",
   "nbconvert_exporter": "python",
   "pygments_lexer": "ipython3",
   "version": "3.7.1"
  }
 },
 "nbformat": 4,
 "nbformat_minor": 2
}
